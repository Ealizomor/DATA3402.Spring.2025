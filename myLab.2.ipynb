{
 "cells": [
  {
   "cell_type": "markdown",
   "metadata": {},
   "source": [
    "## Lab 2- Tic Tac Toe\n",
    "\n",
    "In this lab your will build a n x n Tic Tac Toe game. As you do the exercises, make sure your solutions work for any size Tic Tac Toe game. "
   ]
  },
  {
   "cell_type": "markdown",
   "metadata": {},
   "source": [
    "*Exercise 1:* Write a function that creates an n by n matrix (of list of lists) which will represent the state of a Tie Tac Toe game. Let 0, 1, and 2 represent empty, \"X\", and \"O\", respectively.\n"
   ]
  },
  {
   "cell_type": "code",
   "execution_count": 5,
   "metadata": {},
   "outputs": [
    {
     "name": "stdout",
     "output_type": "stream",
     "text": [
      "[[0, 0, 0], [0, 0, 0], [0, 0, 0]]\n"
     ]
    }
   ],
   "source": [
    "def create_tic_tac_toe_board(n):\n",
    "    return [[0 for _ in range(n)] for _ in range(n)]\n",
    "\n",
    "\n",
    "n = 3\n",
    "board = create_tic_tac_toe_board(n)\n",
    "print(board)\n"
   ]
  },
  {
   "cell_type": "markdown",
   "metadata": {},
   "source": [
    "*Exercise 2:* Write a function that takes 2 integers `n` and `m` as input and draws a `n` by `m` game board. For example the following is a 3x3 board:\n",
    "```\n",
    "   --- --- --- \n",
    "  |   |   |   | \n",
    "   --- --- ---  \n",
    "  |   |   |   | \n",
    "   --- --- ---  \n",
    "  |   |   |   | \n",
    "   --- --- --- \n",
    "   ```"
   ]
  },
  {
   "cell_type": "code",
   "execution_count": 3,
   "metadata": {},
   "outputs": [
    {
     "name": "stdout",
     "output_type": "stream",
     "text": [
      " --- --- --- ---\n",
      "|   |   |   |   |   \n",
      " --- --- --- ---\n",
      "|   |   |   |   |   \n",
      " --- --- --- ---\n",
      "|   |   |   |   |   \n",
      " --- --- --- ---\n"
     ]
    }
   ],
   "source": [
    "def draw_game_board(n, m):\n",
    "    for i in range(n):\n",
    "        print(\" ---\" * m)\n",
    "        print(\"|   \" * (m + 1))\n",
    "    print(\" ---\" * m)\n",
    "\n",
    "n = 3  \n",
    "m = 4  \n",
    "draw_game_board(n, m)\n",
    "\n"
   ]
  },
  {
   "cell_type": "markdown",
   "metadata": {},
   "source": [
    "*Exercise 3:* Modify exercise 2, so that it takes a matrix of the form from exercise 1 and draws a tic-tac-tie board with \"X\"s and \"O\"s.  "
   ]
  },
  {
   "cell_type": "code",
   "execution_count": 1,
   "metadata": {},
   "outputs": [
    {
     "name": "stdout",
     "output_type": "stream",
     "text": [
      "X | O |   | \n",
      "---------\n",
      "O | X |   | \n",
      "---------\n",
      "  | X | O | \n",
      "---------\n"
     ]
    }
   ],
   "source": [
    "def draw_tic_tac_toe(board):\n",
    "    for row in board:\n",
    "        for cell in row:\n",
    "            if cell == 0:\n",
    "                print(\" \", end=\" | \")\n",
    "            elif cell == 1:\n",
    "                print(\"X\", end=\" | \")\n",
    "            elif cell == 2:\n",
    "                print(\"O\", end=\" | \")\n",
    "        print(\"\\n---------\")\n",
    "\n",
    "board = [\n",
    "    [1, 2, 0],\n",
    "    [2, 1, 0],\n",
    "    [0, 1, 2]\n",
    "]\n",
    "\n",
    "draw_tic_tac_toe(board)"
   ]
  },
  {
   "cell_type": "markdown",
   "metadata": {},
   "source": [
    "*Exercise 4:* Write a function that takes a `n` by `n` matrix representing a tic-tac-toe game, and returns -1, 0, 1, or 2 indicating the game is incomplete, the game is a draw, player 1 has won, or player 2 has one, respectively. Here are some example inputs you can use to test your code:"
   ]
  },
  {
   "cell_type": "code",
   "execution_count": 16,
   "metadata": {},
   "outputs": [
    {
     "name": "stdout",
     "output_type": "stream",
     "text": [
      "1\n"
     ]
    }
   ],
   "source": [
    "def check_tic_tac_toe(board):\n",
    "    n = len(board)\n",
    "\n",
    "    \n",
    "    for i in range(n):\n",
    "\n",
    "        if len(set(board[i])) == 1 and board[i][0] != 0:\n",
    "            return board[i][0]  \n",
    "        \n",
    "        column = [board[j][i] for j in range(n)]\n",
    "        if len(set(column)) == 1 and column[0] != 0:\n",
    "            return column[0]  \n",
    "\n",
    "\n",
    "    main_diag = [board[i][i] for i in range(n)]\n",
    "    anti_diag = [board[i][n - i - 1] for i in range(n)]\n",
    "    \n",
    "    if len(set(main_diag)) == 1 and main_diag[0] != 0:\n",
    "        return main_diag[0]  \n",
    "    if len(set(anti_diag)) == 1 and anti_diag[0] != 0:\n",
    "        return anti_diag[0]  \n",
    "\n",
    "    \n",
    "    for row in board:\n",
    "        if 0 in row:\n",
    "            return -1  \n",
    "\n",
    "    \n",
    "    return 0\n",
    "\n",
    "\n",
    "board = [\n",
    "    [1, 2, 1],\n",
    "    [2, 1, 2],\n",
    "    [1, 1, 2]\n",
    "]\n",
    "print(check_tic_tac_toe(board)) \n"
   ]
  },
  {
   "cell_type": "code",
   "execution_count": null,
   "metadata": {
    "collapsed": true
   },
   "outputs": [],
   "source": [
    "winner_is_2 = [[2, 2, 0],\n",
    "\t[2, 1, 0],\n",
    "\t[2, 1, 1]]\n",
    "\n",
    "winner_is_1 = [[1, 2, 0],\n",
    "\t[2, 1, 0],\n",
    "\t[2, 1, 1]]\n",
    "\n",
    "winner_is_also_1 = [[0, 1, 0],\n",
    "\t[2, 1, 0],\n",
    "\t[2, 1, 1]]\n",
    "\n",
    "no_winner = [[1, 2, 0],\n",
    "\t[2, 1, 0],\n",
    "\t[2, 1, 2]]\n",
    "\n",
    "also_no_winner = [[1, 2, 0],\n",
    "\t[2, 1, 0],\n",
    "\t[2, 1, 0]]"
   ]
  },
  {
   "cell_type": "markdown",
   "metadata": {},
   "source": [
    "*Exercise 5:* Write a function that takes a game board, player number, and `(x,y)` coordinates and places \"X\" or \"O\" in the correct location of the game board. Make sure that you only allow filling previously empty locations. Return `True` or `False` to indicate successful placement of \"X\" or \"O\"."
   ]
  },
  {
   "cell_type": "code",
   "execution_count": 23,
   "metadata": {},
   "outputs": [
    {
     "name": "stdout",
     "output_type": "stream",
     "text": [
      "True\n",
      "[[1, 0, 0], [0, 0, 0], [0, 0, 0]]\n",
      "False\n",
      "[[1, 0, 0], [0, 0, 0], [0, 0, 0]]\n"
     ]
    }
   ],
   "source": [
    "def place_mark(board, player, x, y):\n",
    "    if board[x][y] == 0:\n",
    "        board[x][y] = player  \n",
    "        return True\n",
    "    return False\n",
    "\n",
    "\n",
    "board = create_tic_tac_toe_board(3)\n",
    "print(place_mark(board, 1, 0, 0))  \n",
    "print(board)\n",
    "\n",
    "print(place_mark(board, 2, 0, 0))  \n",
    "print(board)\n",
    "\n",
    "\n",
    "\n"
   ]
  },
  {
   "cell_type": "markdown",
   "metadata": {},
   "source": [
    "*Exercise 6:* Modify Exercise 3 to show column and row labels so that players can specify location using \"A2\" or \"C1\"."
   ]
  },
  {
   "cell_type": "code",
   "execution_count": 27,
   "metadata": {},
   "outputs": [
    {
     "name": "stdout",
     "output_type": "stream",
     "text": [
      "    A   B   C\n",
      "   --- --- ---\n",
      "1 |   |   |   |\n",
      "   --- --- ---\n",
      "2 |   |   |   |\n",
      "   --- --- ---\n",
      "3 |   |   |   |\n",
      "   --- --- ---\n"
     ]
    }
   ],
   "source": [
    "def draw_tic_tac_toe_with_labels(matrix):\n",
    "    n = len(matrix)\n",
    "    header = \"    \" + \"   \".join([chr(65 + i) for i in range(n)])  \n",
    "    print(header)\n",
    "    for i, row in enumerate(matrix):\n",
    "        print(\"  \" + \" ---\" * n)  \n",
    "        row_str = str(i + 1) + \" \"  \n",
    "        for cell in row:\n",
    "            if cell == 0:\n",
    "                row_str += \"|   \"  \n",
    "            elif cell == 1:\n",
    "                row_str += \"| X \"  \n",
    "            elif cell == 2:\n",
    "                row_str += \"| O \"  \n",
    "        row_str += \"|\" \n",
    "        print(row_str)\n",
    "    print(\"  \" + \" ---\" * n)  \n",
    "\n",
    "board = create_tic_tac_toe_board(3)\n",
    "draw_tic_tac_toe_with_labels(board)\n"
   ]
  },
  {
   "cell_type": "markdown",
   "metadata": {},
   "source": [
    "*Exercise 7:* Write a function that takes a board, player number, and location specified as in exercise 6 and then calls exercise 5 to correctly modify the board.  "
   ]
  },
  {
   "cell_type": "code",
   "execution_count": 29,
   "metadata": {},
   "outputs": [
    {
     "name": "stdout",
     "output_type": "stream",
     "text": [
      "True\n",
      "    A   B   C\n",
      "   --- --- ---\n",
      "1 | X |   |   |\n",
      "   --- --- ---\n",
      "2 |   |   |   |\n",
      "   --- --- ---\n",
      "3 |   |   |   |\n",
      "   --- --- ---\n",
      "False\n",
      "    A   B   C\n",
      "   --- --- ---\n",
      "1 | X |   |   |\n",
      "   --- --- ---\n",
      "2 |   |   |   |\n",
      "   --- --- ---\n",
      "3 |   |   |   |\n",
      "   --- --- ---\n",
      "True\n",
      "    A   B   C\n",
      "   --- --- ---\n",
      "1 | X |   |   |\n",
      "   --- --- ---\n",
      "2 |   | O |   |\n",
      "   --- --- ---\n",
      "3 |   |   |   |\n",
      "   --- --- ---\n"
     ]
    }
   ],
   "source": [
    "def place_mark_with_labels(board, player, location):\n",
    "    col = ord(location[0].upper()) - 65  \n",
    "    row = int(location[1]) - 1           \n",
    "    return place_mark(board, player, row, col)\n",
    "\n",
    "\n",
    "board = create_tic_tac_toe_board(3)\n",
    "print(place_mark_with_labels(board, 1, \"A1\"))  \n",
    "draw_tic_tac_toe_with_labels(board)  \n",
    "print(place_mark_with_labels(board, 2, \"A1\"))  \n",
    "draw_tic_tac_toe_with_labels(board)  \n",
    "print(place_mark_with_labels(board, 2, \"B2\"))  \n",
    "draw_tic_tac_toe_with_labels(board)  \n"
   ]
  },
  {
   "cell_type": "markdown",
   "metadata": {},
   "source": [
    "*Exercise 8:* Write a function is called with a board and player number, takes input from the player using python's `input`, and modifies the board using your function from exercise 7. Note that you should keep asking for input until you have gotten a valid input that results in a valid move."
   ]
  },
  {
   "cell_type": "code",
   "execution_count": 11,
   "metadata": {},
   "outputs": [
    {
     "name": "stdout",
     "output_type": "stream",
     "text": [
      "Player 1, enter your move (e.g., A1, B2): A1\n",
      "    A   B   C\n",
      "   --- --- ---\n",
      "1 | X |   |   |\n",
      "   --- --- ---\n",
      "2 |   |   |   |\n",
      "   --- --- ---\n",
      "3 |   |   |   |\n",
      "   --- --- ---\n"
     ]
    }
   ],
   "source": [
    "def place_mark_with_labels(board, player, location):\n",
    "    col = ord(location[0].upper()) - 65  \n",
    "    row = int(location[1]) - 1           \n",
    "    return place_mark(board, player, row, col)\n",
    "\n",
    "def play_tic_tac_toe(board, player):\n",
    "    valid_move = False\n",
    "    while not valid_move:\n",
    "        location = input(f\"Player {player}, enter your move (e.g., A1, B2): \")\n",
    "        try:\n",
    "            valid_move = place_mark_with_labels(board, player, location)\n",
    "            if not valid_move:\n",
    "                print(f\"Move to {location} is invalid. Try again.\")\n",
    "        except Exception as e:\n",
    "            print(f\"Error: {e}. Try again.\")\n",
    "\n",
    "board = create_tic_tac_toe_board(3)\n",
    "play_tic_tac_toe(board, 1)\n",
    "draw_tic_tac_toe_with_labels(board)\n"
   ]
  },
  {
   "cell_type": "markdown",
   "metadata": {},
   "source": [
    "*Exercise 9:* Use all of the previous exercises to implement a full tic-tac-toe game, where an appropriate board is drawn, 2 players are repeatedly asked for a location coordinates of where they wish to place a mark, and the game status is checked until a player wins or a draw occurs."
   ]
  },
  {
   "cell_type": "code",
   "execution_count": 12,
   "metadata": {},
   "outputs": [
    {
     "name": "stdout",
     "output_type": "stream",
     "text": [
      "    A   B   C\n",
      "   --- --- ---\n",
      "1 |   |   |   |\n",
      "   --- --- ---\n",
      "2 |   |   |   |\n",
      "   --- --- ---\n",
      "3 |   |   |   |\n",
      "   --- --- ---\n",
      "Player 1, enter your move (e.g., A1, B2): A1\n",
      "    A   B   C\n",
      "   --- --- ---\n",
      "1 | X |   |   |\n",
      "   --- --- ---\n",
      "2 |   |   |   |\n",
      "   --- --- ---\n",
      "3 |   |   |   |\n",
      "   --- --- ---\n",
      "Player 2, enter your move (e.g., A1, B2): B2\n",
      "    A   B   C\n",
      "   --- --- ---\n",
      "1 | X |   |   |\n",
      "   --- --- ---\n",
      "2 |   | O |   |\n",
      "   --- --- ---\n",
      "3 |   |   |   |\n",
      "   --- --- ---\n",
      "Player 1, enter your move (e.g., A1, B2): A2\n",
      "    A   B   C\n",
      "   --- --- ---\n",
      "1 | X |   |   |\n",
      "   --- --- ---\n",
      "2 | X | O |   |\n",
      "   --- --- ---\n",
      "3 |   |   |   |\n",
      "   --- --- ---\n",
      "Player 2, enter your move (e.g., A1, B2): C2\n",
      "    A   B   C\n",
      "   --- --- ---\n",
      "1 | X |   |   |\n",
      "   --- --- ---\n",
      "2 | X | O | O |\n",
      "   --- --- ---\n",
      "3 |   |   |   |\n",
      "   --- --- ---\n",
      "Player 1, enter your move (e.g., A1, B2): A3\n",
      "    A   B   C\n",
      "   --- --- ---\n",
      "1 | X |   |   |\n",
      "   --- --- ---\n",
      "2 | X | O | O |\n",
      "   --- --- ---\n",
      "3 | X |   |   |\n",
      "   --- --- ---\n",
      "Player 1 wins!\n"
     ]
    }
   ],
   "source": [
    "def create_tic_tac_toe_board(n):\n",
    "    return [[0 for _ in range(n)] for _ in range(n)]\n",
    "\n",
    "def draw_tic_tac_toe_with_labels(board):\n",
    "    n = len(board)\n",
    "    header = \"    \" + \"   \".join([chr(65 + i) for i in range(n)])\n",
    "    print(header)\n",
    "    for i, row in enumerate(board):\n",
    "        print(\"  \" + \" ---\" * n)\n",
    "        row_str = str(i + 1) + \" \"\n",
    "        for cell in row:\n",
    "            if cell == 0:\n",
    "                row_str += \"|   \"\n",
    "            elif cell == 1:\n",
    "                row_str += \"| X \"\n",
    "            elif cell == 2:\n",
    "                row_str += \"| O \"\n",
    "        row_str += \"|\"\n",
    "        print(row_str)\n",
    "    print(\"  \" + \" ---\" * n)\n",
    "\n",
    "def place_mark(board, player, x, y):\n",
    "    if board[x][y] == 0:\n",
    "        board[x][y] = player\n",
    "        return True\n",
    "    return False\n",
    "\n",
    "def place_mark_with_labels(board, player, location):\n",
    "    col = ord(location[0].upper()) - 65\n",
    "    row = int(location[1]) - 1\n",
    "    return place_mark(board, player, row, col)\n",
    "\n",
    "def check_tic_tac_toe(board):\n",
    "    n = len(board)\n",
    "\n",
    "    for i in range(n):\n",
    "        if len(set(board[i])) == 1 and board[i][0] != 0:\n",
    "            return board[i][0]\n",
    "        column = [board[j][i] for j in range(n)]\n",
    "        if len(set(column)) == 1 and column[0] != 0:\n",
    "            return column[0]\n",
    "\n",
    "    main_diag = [board[i][i] for i in range(n)]\n",
    "    anti_diag = [board[i][n - i - 1] for i in range(n)]\n",
    "    \n",
    "    if len(set(main_diag)) == 1 and main_diag[0] != 0:\n",
    "        return main_diag[0]\n",
    "    if len(set(anti_diag)) == 1 and anti_diag[0] != 0:\n",
    "        return anti_diag[0]\n",
    "\n",
    "    for row in board:\n",
    "        if 0 in row:\n",
    "            return -1\n",
    "    \n",
    "    return 0\n",
    "\n",
    "def play_tic_tac_toe_game():\n",
    "    board = create_tic_tac_toe_board(3)\n",
    "    current_player = 1\n",
    "    game_status = -1\n",
    "    \n",
    "    while game_status == -1:\n",
    "        draw_tic_tac_toe_with_labels(board)\n",
    "        location = input(f\"Player {current_player}, enter your move (e.g., A1, B2): \")\n",
    "        if place_mark_with_labels(board, current_player, location):\n",
    "            game_status = check_tic_tac_toe(board)\n",
    "            if game_status == -1:\n",
    "                current_player = 3 - current_player  \n",
    "            elif game_status == 0:\n",
    "                draw_tic_tac_toe_with_labels(board)\n",
    "                print(\"It's a draw!\")\n",
    "            else:\n",
    "                draw_tic_tac_toe_with_labels(board)\n",
    "                print(f\"Player {game_status} wins!\")\n",
    "        else:\n",
    "            print(\"Invalid move, try again.\")\n",
    "\n",
    "play_tic_tac_toe_game()\n"
   ]
  },
  {
   "cell_type": "markdown",
   "metadata": {},
   "source": [
    "*Exercise 10:* Test that your game works for 5x5 Tic Tac Toe.  "
   ]
  },
  {
   "cell_type": "code",
   "execution_count": 8,
   "metadata": {},
   "outputs": [
    {
     "name": "stdout",
     "output_type": "stream",
     "text": [
      "    A   B   C   D   E\n",
      "   --- --- --- --- ---\n",
      "1 |   |   |   |   |   |\n",
      "   --- --- --- --- ---\n",
      "2 |   |   |   |   |   |\n",
      "   --- --- --- --- ---\n",
      "3 |   |   |   |   |   |\n",
      "   --- --- --- --- ---\n",
      "4 |   |   |   |   |   |\n",
      "   --- --- --- --- ---\n",
      "5 |   |   |   |   |   |\n",
      "   --- --- --- --- ---\n",
      "Player 1, enter your move (e.g., A1): A1\n",
      "    A   B   C   D   E\n",
      "   --- --- --- --- ---\n",
      "1 | X |   |   |   |   |\n",
      "   --- --- --- --- ---\n",
      "2 |   |   |   |   |   |\n",
      "   --- --- --- --- ---\n",
      "3 |   |   |   |   |   |\n",
      "   --- --- --- --- ---\n",
      "4 |   |   |   |   |   |\n",
      "   --- --- --- --- ---\n",
      "5 |   |   |   |   |   |\n",
      "   --- --- --- --- ---\n",
      "Player 2, enter your move (e.g., A1): C5\n",
      "    A   B   C   D   E\n",
      "   --- --- --- --- ---\n",
      "1 | X |   |   |   |   |\n",
      "   --- --- --- --- ---\n",
      "2 |   |   |   |   |   |\n",
      "   --- --- --- --- ---\n",
      "3 |   |   |   |   |   |\n",
      "   --- --- --- --- ---\n",
      "4 |   |   |   |   |   |\n",
      "   --- --- --- --- ---\n",
      "5 |   |   | O |   |   |\n",
      "   --- --- --- --- ---\n",
      "Player 1, enter your move (e.g., A1): B2\n",
      "    A   B   C   D   E\n",
      "   --- --- --- --- ---\n",
      "1 | X |   |   |   |   |\n",
      "   --- --- --- --- ---\n",
      "2 |   | X |   |   |   |\n",
      "   --- --- --- --- ---\n",
      "3 |   |   |   |   |   |\n",
      "   --- --- --- --- ---\n",
      "4 |   |   |   |   |   |\n",
      "   --- --- --- --- ---\n",
      "5 |   |   | O |   |   |\n",
      "   --- --- --- --- ---\n",
      "Player 2, enter your move (e.g., A1): C2\n",
      "    A   B   C   D   E\n",
      "   --- --- --- --- ---\n",
      "1 | X |   |   |   |   |\n",
      "   --- --- --- --- ---\n",
      "2 |   | X | O |   |   |\n",
      "   --- --- --- --- ---\n",
      "3 |   |   |   |   |   |\n",
      "   --- --- --- --- ---\n",
      "4 |   |   |   |   |   |\n",
      "   --- --- --- --- ---\n",
      "5 |   |   | O |   |   |\n",
      "   --- --- --- --- ---\n",
      "Player 1, enter your move (e.g., A1): C3\n",
      "    A   B   C   D   E\n",
      "   --- --- --- --- ---\n",
      "1 | X |   |   |   |   |\n",
      "   --- --- --- --- ---\n",
      "2 |   | X | O |   |   |\n",
      "   --- --- --- --- ---\n",
      "3 |   |   | X |   |   |\n",
      "   --- --- --- --- ---\n",
      "4 |   |   |   |   |   |\n",
      "   --- --- --- --- ---\n",
      "5 |   |   | O |   |   |\n",
      "   --- --- --- --- ---\n",
      "Player 2, enter your move (e.g., A1): B5\n",
      "    A   B   C   D   E\n",
      "   --- --- --- --- ---\n",
      "1 | X |   |   |   |   |\n",
      "   --- --- --- --- ---\n",
      "2 |   | X | O |   |   |\n",
      "   --- --- --- --- ---\n",
      "3 |   |   | X |   |   |\n",
      "   --- --- --- --- ---\n",
      "4 |   |   |   |   |   |\n",
      "   --- --- --- --- ---\n",
      "5 |   | O | O |   |   |\n",
      "   --- --- --- --- ---\n",
      "Player 1, enter your move (e.g., A1): D4\n",
      "    A   B   C   D   E\n",
      "   --- --- --- --- ---\n",
      "1 | X |   |   |   |   |\n",
      "   --- --- --- --- ---\n",
      "2 |   | X | O |   |   |\n",
      "   --- --- --- --- ---\n",
      "3 |   |   | X |   |   |\n",
      "   --- --- --- --- ---\n",
      "4 |   |   |   | X |   |\n",
      "   --- --- --- --- ---\n",
      "5 |   | O | O |   |   |\n",
      "   --- --- --- --- ---\n",
      "Player 2, enter your move (e.g., A1): E1\n",
      "    A   B   C   D   E\n",
      "   --- --- --- --- ---\n",
      "1 | X |   |   |   | O |\n",
      "   --- --- --- --- ---\n",
      "2 |   | X | O |   |   |\n",
      "   --- --- --- --- ---\n",
      "3 |   |   | X |   |   |\n",
      "   --- --- --- --- ---\n",
      "4 |   |   |   | X |   |\n",
      "   --- --- --- --- ---\n",
      "5 |   | O | O |   |   |\n",
      "   --- --- --- --- ---\n",
      "Player 1, enter your move (e.g., A1): E5\n",
      "    A   B   C   D   E\n",
      "   --- --- --- --- ---\n",
      "1 | X |   |   |   | O |\n",
      "   --- --- --- --- ---\n",
      "2 |   | X | O |   |   |\n",
      "   --- --- --- --- ---\n",
      "3 |   |   | X |   |   |\n",
      "   --- --- --- --- ---\n",
      "4 |   |   |   | X |   |\n",
      "   --- --- --- --- ---\n",
      "5 |   | O | O |   | X |\n",
      "   --- --- --- --- ---\n",
      "Player 1 wins!\n"
     ]
    }
   ],
   "source": [
    "def create_tic_tac_toe_board(n):\n",
    "    return [[0 for _ in range(n)] for _ in range(n)]\n",
    "\n",
    "def draw_tic_tac_toe_with_labels(board):\n",
    "    n = len(board)\n",
    "    header = \"    \" + \"   \".join([chr(65 + i) for i in range(n)])\n",
    "    print(header)\n",
    "    for i, row in enumerate(board):\n",
    "        print(\"  \" + \" ---\" * n)\n",
    "        row_str = str(i + 1) + \" \"\n",
    "        for cell in row:\n",
    "            row_str += \"| \" + (\" \" if cell == 0 else \"X\" if cell == 1 else \"O\") + \" \"\n",
    "        print(row_str + \"|\")\n",
    "    print(\"  \" + \" ---\" * n)\n",
    "\n",
    "def place_mark_with_labels(board, player, location):\n",
    "    col = ord(location[0].upper()) - 65\n",
    "    row = int(location[1]) - 1\n",
    "    if board[row][col] == 0:\n",
    "        board[row][col] = player\n",
    "        return True\n",
    "    return False\n",
    "\n",
    "def player_move(board, player):\n",
    "    while True:\n",
    "        location = input(f\"Player {player}, enter your move (e.g., A1): \")\n",
    "        if len(location) >= 2 and place_mark_with_labels(board, player, location):\n",
    "            break\n",
    "        print(\"Invalid move! Try again.\")\n",
    "\n",
    "def check_tic_tac_toe(board):\n",
    "    n = len(board)\n",
    "    for i in range(n):\n",
    "        if len(set(board[i])) == 1 and board[i][0] != 0:\n",
    "            return board[i][0]\n",
    "        column = [board[j][i] for j in range(n)]\n",
    "        if len(set(column)) == 1 and column[0] != 0:\n",
    "            return column[0]\n",
    "    main_diag = [board[i][i] for i in range(n)]\n",
    "    anti_diag = [board[i][n - i - 1] for i in range(n)]\n",
    "    if len(set(main_diag)) == 1 and main_diag[0] != 0:\n",
    "        return main_diag[0]\n",
    "    if len(set(anti_diag)) == 1 and anti_diag[0] != 0:\n",
    "        return anti_diag[0]\n",
    "    for row in board:\n",
    "        if 0 in row:\n",
    "            return -1\n",
    "    return 0\n",
    "\n",
    "def tic_tac_toe_game(n):\n",
    "    board = create_tic_tac_toe_board(n)\n",
    "    current_player = 1\n",
    "    game_status = -1\n",
    "    while game_status == -1:\n",
    "        draw_tic_tac_toe_with_labels(board)\n",
    "        player_move(board, current_player)\n",
    "        game_status = check_tic_tac_toe(board)\n",
    "        if game_status == -1:\n",
    "            current_player = 3 - current_player  \n",
    "    draw_tic_tac_toe_with_labels(board)\n",
    "    if game_status == 0:\n",
    "        print(\"The game is a draw!\")\n",
    "    else:\n",
    "        print(f\"Player {game_status} wins!\")\n",
    "\n",
    "\n",
    "tic_tac_toe_game(5)\n"
   ]
  },
  {
   "cell_type": "markdown",
   "metadata": {},
   "source": [
    "*Exercise 11:* (Advanced / Challenge) Develop a version of the game where one player is the computer. Note that you don't need to do an extensive seach for the best move. You can have the computer simply protect against loosing and otherwise try to win with straight or diagonal patterns."
   ]
  },
  {
   "cell_type": "code",
   "execution_count": null,
   "metadata": {
    "collapsed": true
   },
   "outputs": [],
   "source": [
    "# Write you solution here"
   ]
  },
  {
   "cell_type": "code",
   "execution_count": null,
   "metadata": {
    "collapsed": true
   },
   "outputs": [],
   "source": [
    "# Test your solution here"
   ]
  }
 ],
 "metadata": {
  "kernelspec": {
   "display_name": "Python 3 (ipykernel)",
   "language": "python",
   "name": "python3"
  },
  "language_info": {
   "codemirror_mode": {
    "name": "ipython",
    "version": 3
   },
   "file_extension": ".py",
   "mimetype": "text/x-python",
   "name": "python",
   "nbconvert_exporter": "python",
   "pygments_lexer": "ipython3",
   "version": "3.12.3"
  }
 },
 "nbformat": 4,
 "nbformat_minor": 2
}
